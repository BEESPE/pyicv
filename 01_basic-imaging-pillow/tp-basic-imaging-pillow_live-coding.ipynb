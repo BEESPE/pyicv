{
 "cells": [
  {
   "cell_type": "markdown",
   "metadata": {},
   "source": [
    "# Transformations simples et manuelles d'images avec Pillow"
   ]
  },
  {
   "cell_type": "code",
   "execution_count": 1,
   "metadata": {},
   "outputs": [],
   "source": [
    "from PIL import Image"
   ]
  },
  {
   "cell_type": "markdown",
   "metadata": {},
   "source": [
    "## Créer, charger, afficher, tourner, rétrécir et sauvegarder une image"
   ]
  },
  {
   "cell_type": "markdown",
   "metadata": {},
   "source": [
    "A partir de la documentation disponible à l'adresse https://pillow.readthedocs.io/en/stable/reference/Image.html, générer un ensemble de Mandelbrot :\n",
    "- avec une taille en pixels de 520 (largeur) x 440 (hauteur),\n",
    "- sur le domaine -2 <= x <= 0.6 et -1.1 <= y <= 1.1 (région principale de cet ensemble),\n",
    "- avec une \"qualité\" (nombre d'itérations de l'algorithme) de 256.\n",
    "\n",
    "Afficher l'image."
   ]
  },
  {
   "cell_type": "code",
   "execution_count": 4,
   "metadata": {},
   "outputs": [],
   "source": [
    "mandelbrot_image = Image.effect_mandelbrot(\n",
    "    size=(520, 440),\n",
    "    extent=(-2, -1.1, 0.6, 1.1),\n",
    "    quality=256,\n",
    ")\n"
   ]
  },
  {
   "cell_type": "code",
   "execution_count": 5,
   "metadata": {},
   "outputs": [],
   "source": [
    "mandelbrot_image.show()"
   ]
  },
  {
   "cell_type": "markdown",
   "metadata": {},
   "source": [
    "Vérifier le type de l'image ainsi créée."
   ]
  },
  {
   "cell_type": "code",
   "execution_count": 7,
   "metadata": {},
   "outputs": [
    {
     "data": {
      "text/plain": [
       "PIL.Image.Image"
      ]
     },
     "execution_count": 7,
     "metadata": {},
     "output_type": "execute_result"
    }
   ],
   "source": [
    "type(mandelbrot_image)"
   ]
  },
  {
   "cell_type": "markdown",
   "metadata": {},
   "source": [
    "Sauvegarder l'image au format PNG, dans le dossier courant."
   ]
  },
  {
   "cell_type": "code",
   "execution_count": 8,
   "metadata": {},
   "outputs": [],
   "source": [
    "mandelbrot_image.save(fp=\"mandelbrot_image.png\")"
   ]
  },
  {
   "cell_type": "markdown",
   "metadata": {},
   "source": [
    "Créer une nouvelle image unie à partir du mode RGB, de taille 400x300 et de couleur \"gold\". L'afficher."
   ]
  },
  {
   "cell_type": "code",
   "execution_count": 9,
   "metadata": {},
   "outputs": [],
   "source": [
    "image_unie = Image.new(mode=\"RGB\", size=(400, 300), color=\"gold\")\n",
    "image_unie.show()"
   ]
  },
  {
   "cell_type": "markdown",
   "metadata": {},
   "source": [
    "Charger l'image \"bateau.jpg\" pré-enregistrée dans le dossier courant et l'afficher."
   ]
  },
  {
   "cell_type": "code",
   "execution_count": 10,
   "metadata": {},
   "outputs": [],
   "source": [
    "boat_image = Image.open(fp=\"bateau.jpg\")\n",
    "boat_image.show()"
   ]
  },
  {
   "cell_type": "markdown",
   "metadata": {},
   "source": [
    "Effectuer une rotation de cette image de 180°, en stockant le résultat dans une nouvelle variable. L'afficher."
   ]
  },
  {
   "cell_type": "code",
   "execution_count": 11,
   "metadata": {},
   "outputs": [],
   "source": [
    "rotated_boat_image = boat_image.rotate(angle=180)\n",
    "rotated_boat_image.show()"
   ]
  },
  {
   "cell_type": "markdown",
   "metadata": {},
   "source": [
    "Une image miniature (thumbnail) est une petite version d'une image, comme celle que l'on pourrait voir dans un explorateur de fichiers.\n",
    "\n",
    "Copier l'image d'origine dans une nouvelle variable. Créer une miniature de notre bateau de taille 200x200 et l'afficher."
   ]
  },
  {
   "cell_type": "code",
   "execution_count": 15,
   "metadata": {},
   "outputs": [],
   "source": [
    "new_boat_image = boat_image.copy()\n",
    "\n",
    "new_boat_image.thumbnail(size=(200, 200))\n",
    "new_boat_image.show()"
   ]
  },
  {
   "cell_type": "markdown",
   "metadata": {},
   "source": [
    "A quoi sert la copy ? Pourquoi ne pas affecter directement l'image d'origine à la nouvelle variable ?"
   ]
  },
  {
   "cell_type": "code",
   "execution_count": 17,
   "metadata": {},
   "outputs": [],
   "source": [
    "new_boat_image_bis = boat_image\n",
    "new_boat_image_bis.thumbnail(size=(200, 200))\n",
    "boat_image.show()"
   ]
  },
  {
   "cell_type": "markdown",
   "metadata": {},
   "source": [
    "Certains points ne sont pas abordés car ils ne sont pas spécialement utiles pour des applications IA tout en restant réalisables avec Pillow : composer des images, dessiner sur des images..."
   ]
  },
  {
   "cell_type": "markdown",
   "metadata": {},
   "source": [
    "### Annexe : récupérer les métadonnées d'une image."
   ]
  },
  {
   "cell_type": "code",
   "execution_count": null,
   "metadata": {},
   "outputs": [],
   "source": [
    "exif_data = image._getexif()\n",
    "\n",
    "if exif_data:\n",
    "    for tag, value in exif_data.items():\n",
    "        print(f\"Tag: {tag}, Value: {value}\")\n",
    "else:\n",
    "    print(\"Aucune métadonnée Exif trouvée dans l'image.\")"
   ]
  },
  {
   "cell_type": "code",
   "execution_count": null,
   "metadata": {},
   "outputs": [],
   "source": []
  }
 ],
 "metadata": {
  "kernelspec": {
   "display_name": "basic-imaging-pillow-LzgoG-Ie-py3.11",
   "language": "python",
   "name": "python3"
  },
  "language_info": {
   "codemirror_mode": {
    "name": "ipython",
    "version": 3
   },
   "file_extension": ".py",
   "mimetype": "text/x-python",
   "name": "python",
   "nbconvert_exporter": "python",
   "pygments_lexer": "ipython3",
   "version": "3.11.4"
  },
  "orig_nbformat": 4
 },
 "nbformat": 4,
 "nbformat_minor": 2
}
