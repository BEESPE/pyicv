{
 "cells": [
  {
   "cell_type": "markdown",
   "metadata": {},
   "source": [
    "Le but de ce TP est de réaliser une classification supervisées des images du TP précédent. 4 approches sont présentées :\n",
    "* Une approche simple par préparation initiale de l'ensemble des images avant classification supervisée\n",
    "* Une approche par data generator, permettant facilement la data augmentation. Les images sont directement récupérées à la volée dans le repertoire des images\n",
    "* Une approche récente proposée par Tensorflow.org par DataSet, sans data augmentation\n",
    "* Une approche par  DataSet, avec data augmentation intégrée au modèle : layer en début de modèle\n"
   ]
  },
  {
   "cell_type": "markdown",
   "metadata": {},
   "source": [
    "<font color=\"orange\">Préparer la cellule des imports (on commence à en avoir l'habitude !).</font>"
   ]
  },
  {
   "cell_type": "code",
   "execution_count": 32,
   "metadata": {
    "scrolled": true
   },
   "outputs": [
    {
     "name": "stdout",
     "output_type": "stream",
     "text": [
      "Num GPUs Available:  0\n"
     ]
    }
   ],
   "source": [
    "import matplotlib.pyplot as plt\n",
    "import numpy as np\n",
    "import pandas as pd\n",
    "import pickle as pkl\n",
    "from plot_keras_history import show_history, plot_history\n",
    "import seaborn as sns\n",
    "from skimage import io\n",
    "from sklearn import metrics\n",
    "from sklearn.model_selection import train_test_split\n",
    "import tensorflow as tf\n",
    "from tensorflow.keras.models import Model, Sequential\n",
    "from tensorflow.keras.layers import GlobalAveragePooling2D, Dense, Dropout \n",
    "from tensorflow.keras.layers import Rescaling, RandomFlip, RandomRotation, RandomZoom\n",
    "from tensorflow.keras.callbacks import EarlyStopping, ModelCheckpoint\n",
    "from tensorflow.keras.applications.vgg16 import VGG16\n",
    "from tensorflow.keras.applications.vgg16 import preprocess_input\n",
    "from tensorflow.keras.preprocessing.image import load_img, img_to_array\n",
    "from tensorflow.keras.utils import to_categorical\n",
    "\n",
    "print(\"Num GPUs Available: \", len(tf.config.list_physical_devices('GPU')))"
   ]
  },
  {
   "cell_type": "markdown",
   "metadata": {},
   "source": [
    "<font color=\"orange\">Charger les fichiers pickle utilisés dans le TP précédent pour sérialiser nos variables utiles. Vérifier que les variables contiennent bien ce qu'on attend.</font>"
   ]
  },
  {
   "cell_type": "code",
   "execution_count": 2,
   "metadata": {},
   "outputs": [
    {
     "name": "stdout",
     "output_type": "stream",
     "text": [
      "[[ 1.9544766e+00 -1.4717954e+01 -5.3037477e+00 ... -7.2532974e-02\n",
      "  -5.0635785e-01 -2.6224542e-01]\n",
      " [ 6.2963510e-01 -1.2585759e+01 -2.3373365e-01 ...  6.8578728e-02\n",
      "   3.5400692e-01  1.1424346e-01]\n",
      " [-3.5353053e+00 -9.5045137e+00  1.0362120e+01 ... -2.8378537e-01\n",
      "  -3.3193159e-01  2.7808327e-02]\n",
      " ...\n",
      " [ 3.2934761e+01  2.1253059e+01 -1.2920221e+01 ... -2.9714820e-01\n",
      "  -2.1840538e-01 -4.5804556e-02]\n",
      " [ 3.4682747e+01  1.9640528e+01 -3.1260743e+00 ...  2.0042632e-03\n",
      "   1.2696417e-01  1.4020243e-01]\n",
      " [ 2.1140398e+01  2.8663256e+00 -1.1699773e+01 ... -2.1752882e-01\n",
      "   2.4104546e-01 -1.0651556e-01]]\n"
     ]
    },
    {
     "data": {
      "text/html": [
       "<div>\n",
       "<style scoped>\n",
       "    .dataframe tbody tr th:only-of-type {\n",
       "        vertical-align: middle;\n",
       "    }\n",
       "\n",
       "    .dataframe tbody tr th {\n",
       "        vertical-align: top;\n",
       "    }\n",
       "\n",
       "    .dataframe thead th {\n",
       "        text-align: right;\n",
       "    }\n",
       "</style>\n",
       "<table border=\"1\" class=\"dataframe\">\n",
       "  <thead>\n",
       "    <tr style=\"text-align: right;\">\n",
       "      <th></th>\n",
       "      <th>image_path</th>\n",
       "      <th>label_name</th>\n",
       "      <th>label</th>\n",
       "    </tr>\n",
       "  </thead>\n",
       "  <tbody>\n",
       "    <tr>\n",
       "      <th>0</th>\n",
       "      <td>.\\dataset\\cloudy1.jpg</td>\n",
       "      <td>cloudy</td>\n",
       "      <td>0</td>\n",
       "    </tr>\n",
       "    <tr>\n",
       "      <th>1</th>\n",
       "      <td>.\\dataset\\cloudy10.jpg</td>\n",
       "      <td>cloudy</td>\n",
       "      <td>0</td>\n",
       "    </tr>\n",
       "    <tr>\n",
       "      <th>2</th>\n",
       "      <td>.\\dataset\\cloudy100.jpg</td>\n",
       "      <td>cloudy</td>\n",
       "      <td>0</td>\n",
       "    </tr>\n",
       "    <tr>\n",
       "      <th>3</th>\n",
       "      <td>.\\dataset\\cloudy101.jpg</td>\n",
       "      <td>cloudy</td>\n",
       "      <td>0</td>\n",
       "    </tr>\n",
       "    <tr>\n",
       "      <th>4</th>\n",
       "      <td>.\\dataset\\cloudy102.jpg</td>\n",
       "      <td>cloudy</td>\n",
       "      <td>0</td>\n",
       "    </tr>\n",
       "  </tbody>\n",
       "</table>\n",
       "</div>"
      ],
      "text/plain": [
       "                image_path label_name  label\n",
       "0    .\\dataset\\cloudy1.jpg     cloudy      0\n",
       "1   .\\dataset\\cloudy10.jpg     cloudy      0\n",
       "2  .\\dataset\\cloudy100.jpg     cloudy      0\n",
       "3  .\\dataset\\cloudy101.jpg     cloudy      0\n",
       "4  .\\dataset\\cloudy102.jpg     cloudy      0"
      ]
     },
     "metadata": {},
     "output_type": "display_data"
    }
   ],
   "source": [
    "with open(\"features_array.pkl\", \"rb\") as handle:\n",
    "    feat_pca_array = pkl.load(handle)\n",
    "with open(\"img_df.pkl\", \"rb\") as handle:\n",
    "    img_df = pkl.load(handle)\n",
    "print(feat_pca_array)\n",
    "display(img_df.head())"
   ]
  },
  {
   "cell_type": "markdown",
   "metadata": {},
   "source": [
    "<font color=\"orange\">Redéclarer la liste des labels (dans l'ordre d'encodage avec le champ label).</font>"
   ]
  },
  {
   "cell_type": "code",
   "execution_count": 41,
   "metadata": {},
   "outputs": [],
   "source": [
    "LABELS_LIST = [\"cloudy\", \"rain\", \"shine\", \"sunrise\"]"
   ]
  },
  {
   "cell_type": "markdown",
   "metadata": {},
   "source": [
    "### Préparation des images"
   ]
  },
  {
   "cell_type": "markdown",
   "metadata": {},
   "source": [
    "<font color=\"orange\">En sélectionnant une image aléatoire du dataset, écrire le traitement que suivra cette image, en suivant les étapes suivantes :\n",
    "- charger l'image avec la fonction load_img du module tensorflow.keras.preprocessing.image, en utilisant l'argument target_size pour forcer une redimension fixée à 224x224,\n",
    "- convertir l'image en array avec la fonction img_to_array de ce même module,\n",
    "- appliquer la fonction de préprocessing déjà prête de VGG16 : preprocess_input du module tensorflow.keras.applications.vgg16.\n",
    "\n",
    "Ajouter une visualisation après l'étape 1 (pour se convaincre qu'on a bien chargé l'image initiale) ainsi qu'après l'étape 3 (pour visualiser que le préprocessing VGG16 déjà implémenté change significativement l'image, qui ne sera déjà plus vraiment interprétable à l'oeil).</font> Attention, petit rappel, après l'étape 1 l'objet est une image tandis qu'après la dernière étape il s'agit d'un array : les fonctions pour afficher ces deux objets ne sont donc pas tout à fait les mêmes."
   ]
  },
  {
   "cell_type": "code",
   "execution_count": 5,
   "metadata": {},
   "outputs": [
    {
     "name": "stderr",
     "output_type": "stream",
     "text": [
      "Clipping input data to the valid range for imshow with RGB data ([0..1] for floats or [0..255] for integers).\n"
     ]
    },
    {
     "data": {
      "image/png": "[encoded data removed]",
      "text/plain": [
       "<Figure size 640x480 with 2 Axes>"
      ]
     },
     "metadata": {},
     "output_type": "display_data"
    }
   ],
   "source": [
    "img = load_img(\n",
    "    img_df['image_path'][765],\n",
    "    target_size=(224, 224),\n",
    ")\n",
    "img.show()\n",
    "img = img_to_array(img)\n",
    "img = preprocess_input(img)\n",
    "io.imshow(img)\n",
    "io.show()"
   ]
  },
  {
   "cell_type": "markdown",
   "metadata": {},
   "source": [
    "<font color=\"orange\">A partir du traitement unitaire écrit précédemment, écrire la fonction prenant en entrée notre dataframe et créant le tableau de toutes les images contenues dans le dataframe (dans l'ordre).</font> Utiliser une simple boucle for pour créer une liste de représentations array d'images (ne pas réfléchir spécialement à des opérations vectorielles, le chargement même des images n'est pas vectorisable), puis convertir cette liste elle-même en tableau numpy grâce à np.array. Ne pas oublier d'enlever les visualisations, qui ne feraient que nous polluer désormais lorsque la fonction sera appelée sur le dataset entier de plus de 1000 images."
   ]
  },
  {
   "cell_type": "code",
   "execution_count": 6,
   "metadata": {},
   "outputs": [],
   "source": [
    "def prepare_images(img_df: pd.DataFrame) -> np.ndarray:\n",
    "    prepared_images = []\n",
    "    for image_num in range(len(img_df['image_path'])):\n",
    "        img = (load_img(\n",
    "            img_df['image_path'][image_num],\n",
    "            target_size=(224, 224),\n",
    "        ))\n",
    "        img = img_to_array(img)\n",
    "        img = preprocess_input(img)\n",
    "        prepared_images.append(img)\n",
    "        prepared_images_np = np.array(prepared_images)\n",
    "    return prepared_images_np"
   ]
  },
  {
   "cell_type": "markdown",
   "metadata": {},
   "source": [
    "<font color=\"orange\">Appeler cette fonction sur notre dataframe d'images.</font> Ce traitement prendra plusieurs minutes."
   ]
  },
  {
   "cell_type": "code",
   "execution_count": 7,
   "metadata": {},
   "outputs": [],
   "source": [
    "X = prepare_images(img_df=img_df)"
   ]
  },
  {
   "cell_type": "markdown",
   "metadata": {},
   "source": [
    "<font color=\"orange\">Préparer le vecteur y en appelant to_categorical sur la colonne contenant le label (numérique).</font>"
   ]
  },
  {
   "cell_type": "code",
   "execution_count": 11,
   "metadata": {},
   "outputs": [],
   "source": [
    "y = to_categorical(img_df['label'])"
   ]
  },
  {
   "cell_type": "markdown",
   "metadata": {},
   "source": [
    "<font color=\"orange\">Séparer le jeu de données en un jeu d'entraînement et un jeu de test. Fixer un random_state pour garantir la reproductibilité des résultats pendant la phase d'élaboration de notre modèle. Stratifier selon la cible.</font>"
   ]
  },
  {
   "cell_type": "code",
   "execution_count": 16,
   "metadata": {},
   "outputs": [],
   "source": [
    "X_macro_train, X_test, y_macro_train, y_test = train_test_split(X, y, stratify=y, test_size=0.2, random_state=0)"
   ]
  },
  {
   "cell_type": "markdown",
   "metadata": {},
   "source": [
    "Remarque : généralement cette étape est effectuée AVANT tout autre traitement afin d'éviter tout data leakage. Pour autant, ici, la fonction de préprocessing s'applique aux images de façon unitaire (le traitement d'un image n'est pas dépendant des autres images), et, étant donné la stratification, toutes les classes du référentiel seront nécessairement représentées dans le jeu d'entraînement et dans celui de test, de sorte que l'encoding de la cible dans le jeu de test ne révèlera pas de surprise de type modalité inconnue."
   ]
  },
  {
   "cell_type": "markdown",
   "metadata": {},
   "source": [
    "<font color=\"orange\">Redécouper le jeu d'entraînement en mini-jeu d'entraînement et jeu de validation.</font>"
   ]
  },
  {
   "cell_type": "code",
   "execution_count": 17,
   "metadata": {},
   "outputs": [],
   "source": [
    "X_train, X_val, y_train, y_val = train_test_split(X_macro_train, y_macro_train, stratify=y_macro_train, test_size=0.2, random_state=0)"
   ]
  },
  {
   "cell_type": "code",
   "execution_count": 18,
   "metadata": {},
   "outputs": [
    {
     "data": {
      "text/plain": [
       "(720, 224, 224, 3)"
      ]
     },
     "execution_count": 18,
     "metadata": {},
     "output_type": "execute_result"
    }
   ],
   "source": [
    "X_train.shape"
   ]
  },
  {
   "cell_type": "markdown",
   "metadata": {},
   "source": [
    "### Préparation du modèle"
   ]
  },
  {
   "cell_type": "markdown",
   "metadata": {},
   "source": [
    "<font color=\"orange\">Ecrire une fonction permettant de créer notre modèle VGG16.</font> Pour cela :\n",
    "- instancier un objet VGG16. A partir de la doc, faire en sorte d'initialiser les points à ceux du modèle pré-entraîné sur le jeu ImageNet. Choisir par exemple de ne pas inclure les 3 premières couches fully-connected, et spécifier dans ce cas une taille d'entrée de 224x224x3\n",
    "- indiquer que toutes ces couches seront \"gelées\" (non entraînables). Pour cela, boucler sur l'ensemble des éléments de model.layers et définir l'attribut trainable à False.\n",
    "- stocker dans une variable model.output, puis ajouter une couche de pooling, une couche dense, une couche de dropout et une dernière couche dense.\n",
    "- définir le nouveau modèle et le compiler."
   ]
  },
  {
   "cell_type": "code",
   "execution_count": 19,
   "metadata": {},
   "outputs": [],
   "source": [
    "def create_model():\n",
    "    \"\"\"Create a model from the VGG16 model, adding a task head for image\n",
    "    classification.\n",
    "    \"\"\"\n",
    "    # Récupération modèle pré-entraîné\n",
    "    model0 = VGG16(include_top=False, weights=\"imagenet\", input_shape=(224, 224, 3))\n",
    "\n",
    "    # Layer non entraînables = on garde les poids du modèle pré-entraîné\n",
    "    for layer in model0.layers:\n",
    "        layer.trainable = False\n",
    "\n",
    "    # Récupérer la sortie de ce réseau\n",
    "    x = model0.output\n",
    "    # Compléter le modèle\n",
    "    x = GlobalAveragePooling2D()(x)\n",
    "    x = Dense(256, activation='relu')(x)\n",
    "    x = Dropout(0.5)(x)\n",
    "    predictions = Dense(4, activation='softmax')(x)\n",
    "\n",
    "    # Définir le nouveau modèle\n",
    "    model = Model(inputs=model0.input, outputs=predictions)\n",
    "    # compilation du modèle \n",
    "    model.compile(loss=\"categorical_crossentropy\", optimizer='rmsprop', metrics=[\"accuracy\"])\n",
    "\n",
    "    print(model.summary())\n",
    "    \n",
    "    return model"
   ]
  },
  {
   "cell_type": "markdown",
   "metadata": {},
   "source": [
    "<font color=\"orange\">Créer effectivement le modèle, avec un context manager spécifiant le device à utiliser (c'est ici qu'on spécifierait quel GPU utiliser si on en disposer). Dans notre cas, utilisons \"/cpu:0\"</font>"
   ]
  },
  {
   "cell_type": "code",
   "execution_count": null,
   "metadata": {},
   "outputs": [],
   "source": [
    "with tf.device(\"/cpu:0\"): \n",
    "    model1 = create_model()"
   ]
  },
  {
   "cell_type": "markdown",
   "metadata": {},
   "source": [
    "<font color=\"orange\">Créer un \"callback\" pour créer un early stopping de la manière suivante et sauvegarder le modèle de la manière suivante :</font>"
   ]
  },
  {
   "cell_type": "code",
   "execution_count": 20,
   "metadata": {
    "scrolled": true
   },
   "outputs": [
    {
     "name": "stdout",
     "output_type": "stream",
     "text": [
      "Model: \"model\"\n",
      "_________________________________________________________________\n",
      " Layer (type)                Output Shape              Param #   \n",
      "=================================================================\n",
      " input_1 (InputLayer)        [(None, 224, 224, 3)]     0         \n",
      "                                                                 \n",
      " block1_conv1 (Conv2D)       (None, 224, 224, 64)      1792      \n",
      "                                                                 \n",
      " block1_conv2 (Conv2D)       (None, 224, 224, 64)      36928     \n",
      "                                                                 \n",
      " block1_pool (MaxPooling2D)  (None, 112, 112, 64)      0         \n",
      "                                                                 \n",
      " block2_conv1 (Conv2D)       (None, 112, 112, 128)     73856     \n",
      "                                                                 \n",
      " block2_conv2 (Conv2D)       (None, 112, 112, 128)     147584    \n",
      "                                                                 \n",
      " block2_pool (MaxPooling2D)  (None, 56, 56, 128)       0         \n",
      "                                                                 \n",
      " block3_conv1 (Conv2D)       (None, 56, 56, 256)       295168    \n",
      "                                                                 \n",
      " block3_conv2 (Conv2D)       (None, 56, 56, 256)       590080    \n",
      "                                                                 \n",
      " block3_conv3 (Conv2D)       (None, 56, 56, 256)       590080    \n",
      "                                                                 \n",
      " block3_pool (MaxPooling2D)  (None, 28, 28, 256)       0         \n",
      "                                                                 \n",
      " block4_conv1 (Conv2D)       (None, 28, 28, 512)       1180160   \n",
      "                                                                 \n",
      " block4_conv2 (Conv2D)       (None, 28, 28, 512)       2359808   \n",
      "                                                                 \n",
      " block4_conv3 (Conv2D)       (None, 28, 28, 512)       2359808   \n",
      "                                                                 \n",
      " block4_pool (MaxPooling2D)  (None, 14, 14, 512)       0         \n",
      "                                                                 \n",
      " block5_conv1 (Conv2D)       (None, 14, 14, 512)       2359808   \n",
      "                                                                 \n",
      " block5_conv2 (Conv2D)       (None, 14, 14, 512)       2359808   \n",
      "                                                                 \n",
      " block5_conv3 (Conv2D)       (None, 14, 14, 512)       2359808   \n",
      "                                                                 \n",
      " block5_pool (MaxPooling2D)  (None, 7, 7, 512)         0         \n",
      "                                                                 \n",
      " global_average_pooling2d (  (None, 512)               0         \n",
      " GlobalAveragePooling2D)                                         \n",
      "                                                                 \n",
      " dense (Dense)               (None, 256)               131328    \n",
      "                                                                 \n",
      " dropout (Dropout)           (None, 256)               0         \n",
      "                                                                 \n",
      " dense_1 (Dense)             (None, 4)                 1028      \n",
      "                                                                 \n",
      "=================================================================\n",
      "Total params: 14847044 (56.64 MB)\n",
      "Trainable params: 132356 (517.02 KB)\n",
      "Non-trainable params: 14714688 (56.13 MB)\n",
      "_________________________________________________________________\n",
      "None\n"
     ]
    }
   ],
   "source": [
    "model1_save_path1 = \"./model1_best_weights.h5\"\n",
    "checkpoint = ModelCheckpoint(model1_save_path1, monitor='val_loss', verbose=1, save_best_only=True, mode='min')\n",
    "es = EarlyStopping(monitor='val_loss', mode='min', verbose=1, patience=5)\n",
    "callbacks_list = [checkpoint, es]"
   ]
  },
  {
   "cell_type": "markdown",
   "metadata": {},
   "source": [
    "<font color=\"orange\">A l'intérieur du context manager spécifiant le device à utiliser, lancer l'entraînement du modèle. Prévoir dès maintenant de sauvegarder la sortie dans une variable appelée history (nous l'utiliserons plus tard). Attention à bien préciser le jeu de validation ! </font>"
   ]
  },
  {
   "cell_type": "code",
   "execution_count": 23,
   "metadata": {
    "scrolled": true
   },
   "outputs": [
    {
     "name": "stdout",
     "output_type": "stream",
     "text": [
      "Epoch 1/10\n",
      "12/12 [==============================] - ETA: 0s - loss: 0.3165 - accuracy: 0.9056\n",
      "Epoch 1: val_loss improved from 0.27297 to 0.17064, saving model to .\\model1_best_weights.h5\n",
      "12/12 [==============================] - 138s 12s/step - loss: 0.3165 - accuracy: 0.9056 - val_loss: 0.1706 - val_accuracy: 0.9333\n",
      "Epoch 2/10\n",
      "12/12 [==============================] - ETA: 0s - loss: 0.1991 - accuracy: 0.9292\n",
      "Epoch 2: val_loss did not improve from 0.17064\n",
      "12/12 [==============================] - 136s 11s/step - loss: 0.1991 - accuracy: 0.9292 - val_loss: 0.1948 - val_accuracy: 0.9389\n",
      "Epoch 3/10\n",
      "12/12 [==============================] - ETA: 0s - loss: 0.1783 - accuracy: 0.9347\n",
      "Epoch 3: val_loss did not improve from 0.17064\n",
      "12/12 [==============================] - 139s 12s/step - loss: 0.1783 - accuracy: 0.9347 - val_loss: 0.1722 - val_accuracy: 0.9222\n",
      "Epoch 4/10\n",
      "12/12 [==============================] - ETA: 0s - loss: 0.1430 - accuracy: 0.9486\n",
      "Epoch 4: val_loss did not improve from 0.17064\n",
      "12/12 [==============================] - 142s 12s/step - loss: 0.1430 - accuracy: 0.9486 - val_loss: 0.1711 - val_accuracy: 0.9444\n",
      "Epoch 5/10\n",
      "12/12 [==============================] - ETA: 0s - loss: 0.1253 - accuracy: 0.9542 \n",
      "Epoch 5: val_loss did not improve from 0.17064\n",
      "12/12 [==============================] - 141s 12s/step - loss: 0.1253 - accuracy: 0.9542 - val_loss: 0.1871 - val_accuracy: 0.9444\n",
      "Epoch 6/10\n",
      "12/12 [==============================] - ETA: 0s - loss: 0.0859 - accuracy: 0.9778\n",
      "Epoch 6: val_loss did not improve from 0.17064\n",
      "12/12 [==============================] - 139s 12s/step - loss: 0.0859 - accuracy: 0.9778 - val_loss: 0.1778 - val_accuracy: 0.9333\n",
      "Epoch 6: early stopping\n"
     ]
    }
   ],
   "source": [
    "with tf.device('/cpu:0'): \n",
    "    history1 = model1.fit(\n",
    "        X_train,\n",
    "        y_train,\n",
    "        epochs=10,\n",
    "        batch_size=64,\n",
    "        callbacks=callbacks_list,\n",
    "        validation_data=(X_val, y_val),\n",
    "        verbose=1,\n",
    "    )\n"
   ]
  },
  {
   "cell_type": "markdown",
   "metadata": {},
   "source": [
    "<font color=\"orange\">Vérifier le score du dernier epoch sur le jeu d'entraînement et le jeu de validation grâce à la méthode evaluate de notre modèle entraîné.</font>"
   ]
  },
  {
   "cell_type": "code",
   "execution_count": 24,
   "metadata": {
    "scrolled": true
   },
   "outputs": [
    {
     "name": "stdout",
     "output_type": "stream",
     "text": [
      "23/23 [==============================] - 113s 5s/step - loss: 0.0227 - accuracy: 0.9958\n",
      "Training Accuracy: 0.9958\n",
      "\n",
      "6/6 [==============================] - 29s 5s/step - loss: 0.1778 - accuracy: 0.9333\n",
      "Validation Accuracy:  0.9333\n"
     ]
    }
   ],
   "source": [
    "loss, accuracy = model1.evaluate(X_train, y_train, verbose=True)\n",
    "print(\"Training Accuracy: {:.4f}\".format(accuracy))\n",
    "print()\n",
    "loss, accuracy = model1.evaluate(X_val, y_val, verbose=True)\n",
    "print(\"Validation Accuracy: {:.4f}\".format(accuracy))"
   ]
  },
  {
   "cell_type": "markdown",
   "metadata": {},
   "source": [
    "<font color=\"orange\">Vérifier le score de l'epoch optimal sur le jeu de validation et le jeu de test.</font>"
   ]
  },
  {
   "cell_type": "code",
   "execution_count": 25,
   "metadata": {},
   "outputs": [
    {
     "name": "stdout",
     "output_type": "stream",
     "text": [
      "Validation Accuracy :  0.9333\n",
      "Test Accuracy       :  0.9111\n"
     ]
    }
   ],
   "source": [
    "model1.load_weights(model1_save_path1)\n",
    "\n",
    "loss, accuracy = model1.evaluate(X_val, y_val, verbose=False)\n",
    "print(\"Validation Accuracy :  {:.4f}\".format(accuracy))\n",
    "\n",
    "loss, accuracy = model1.evaluate(X_test, y_test, verbose=False)\n",
    "print(\"Test Accuracy       :  {:.4f}\".format(accuracy))\n"
   ]
  },
  {
   "cell_type": "markdown",
   "metadata": {},
   "source": [
    "<font color=\"orange\">Consulter la doc de plot_keras_history. A partir de celle-ci, visualiser l'évolution de la loss et de l'accuracy au fil des epochs.</font>"
   ]
  },
  {
   "cell_type": "code",
   "execution_count": 30,
   "metadata": {
    "scrolled": false
   },
   "outputs": [
    {
     "data": {
      "image/png": "[encoded data removed]",
      "text/plain": [
       "<Figure size 1000x500 with 2 Axes>"
      ]
     },
     "metadata": {},
     "output_type": "display_data"
    }
   ],
   "source": [
    "show_history(history1)\n",
    "plot_history(history1, path=\"standard.png\")\n",
    "plt.close()"
   ]
  },
  {
   "cell_type": "markdown",
   "metadata": {},
   "source": [
    "<font color=\"orange\">Afficher les classes réelles et prédites sur les images du jeu de validation.</font>"
   ]
  },
  {
   "cell_type": "code",
   "execution_count": 31,
   "metadata": {
    "scrolled": true
   },
   "outputs": [
    {
     "name": "stdout",
     "output_type": "stream",
     "text": [
      "6/6 [==============================] - 23s 4s/step\n",
      "[2 0 3 2 2 0 2 2 0 0 0 2 0 2 2 3 3 3 2 1 2 3 0 2 1 3 0 0 3 0 2 2 2 1 3 0 1\n",
      " 1 0 0 1 3 2 0 3 3 1 1 0 3 2 3 3 0 1 0 2 3 1 0 0 3 3 3 1 3 3 0 3 1 3 1 2 2\n",
      " 0 2 3 2 1 0 1 2 0 3 2 1 1 2 2 0 1 1 1 0 3 0 3 0 3 2 3 0 3 0 3 1 0 2 3 3 0\n",
      " 2 3 0 3 3 0 2 3 3 1 1 1 2 3 3 0 0 3 3 0 1 3 0 2 2 3 2 1 2 1 1 3 0 3 0 0 0\n",
      " 3 2 3 3 3 1 0 1 0 1 3 1 1 0 3 3 2 0 0 3 0 2 3 3 2 1 2 2 0 3 3 2]\n",
      "[0 0 3 2 2 2 2 2 0 0 0 2 0 2 2 3 3 3 2 1 0 3 0 2 1 3 0 0 3 0 2 3 2 1 3 0 1\n",
      " 1 0 0 1 3 2 0 3 3 2 1 0 3 2 3 3 0 1 0 2 3 1 0 3 3 3 3 1 3 3 0 3 1 3 1 2 2\n",
      " 0 2 3 3 1 3 1 2 0 3 2 1 1 2 2 3 3 1 1 0 3 0 3 0 3 2 3 0 3 0 3 1 0 2 3 3 0\n",
      " 2 3 0 3 3 0 2 3 3 1 1 1 2 3 3 0 0 3 3 0 1 2 0 2 2 3 2 1 3 1 1 3 0 3 0 0 0\n",
      " 3 2 3 3 3 1 0 1 0 1 3 1 1 0 3 3 2 0 0 3 0 2 3 3 2 1 2 2 0 3 3 2]\n"
     ]
    }
   ],
   "source": [
    "y_val_num = np.argmax(y_val, axis=1)\n",
    "y_val_pred = np.argmax(model1.predict(X_val), axis=1)\n",
    "\n",
    "print(y_val_num)\n",
    "print(y_val_pred)"
   ]
  },
  {
   "cell_type": "markdown",
   "metadata": {},
   "source": [
    "<font color=\"orange\">De manière analogue au TP précédent, afficher la matrice de confusion associée ainsi que le rapport de classification.</font>"
   ]
  },
  {
   "cell_type": "code",
   "execution_count": 37,
   "metadata": {},
   "outputs": [
    {
     "name": "stdout",
     "output_type": "stream",
     "text": [
      "[[44  0  1  3]\n",
      " [ 0 32  1  1]\n",
      " [ 2  0 36  3]\n",
      " [ 0  0  1 56]]\n"
     ]
    }
   ],
   "source": [
    "conf_mat = metrics.confusion_matrix(\n",
    "    y_true=y_val_num,\n",
    "    y_pred=y_val_pred,\n",
    ")\n",
    "print(conf_mat)"
   ]
  },
  {
   "cell_type": "code",
   "execution_count": 42,
   "metadata": {},
   "outputs": [
    {
     "data": {
      "image/png": "[encoded data removed]",
      "text/plain": [
       "<Figure size 640x480 with 2 Axes>"
      ]
     },
     "metadata": {},
     "output_type": "display_data"
    }
   ],
   "source": [
    "sns.heatmap(\n",
    "    data=conf_mat,\n",
    "    annot=True,\n",
    "    cmap=\"Blues\",\n",
    "    fmt=\"g\",\n",
    "    xticklabels=LABELS_LIST,\n",
    "    yticklabels=LABELS_LIST,\n",
    ")\n",
    "plt.xlabel(\"Cluster\")\n",
    "plt.ylabel(\"Classe réelle\")\n",
    "plt.show()"
   ]
  },
  {
   "cell_type": "code",
   "execution_count": 44,
   "metadata": {},
   "outputs": [
    {
     "name": "stdout",
     "output_type": "stream",
     "text": [
      "              precision    recall  f1-score   support\n",
      "\n",
      "           0       0.96      0.92      0.94        48\n",
      "           1       1.00      0.94      0.97        34\n",
      "           2       0.92      0.88      0.90        41\n",
      "           3       0.89      0.98      0.93        57\n",
      "\n",
      "    accuracy                           0.93       180\n",
      "   macro avg       0.94      0.93      0.93       180\n",
      "weighted avg       0.94      0.93      0.93       180\n",
      "\n"
     ]
    }
   ],
   "source": [
    "print(metrics.classification_report(y_val_num, y_val_pred))"
   ]
  },
  {
   "cell_type": "markdown",
   "metadata": {},
   "source": [
    "<font color=\"orange\">Essayer éventuellement de visualiser les prédictions sur les images de test et en particulier, s'il y en a, sur des images présentant des écueils soulevés dans le TP précédent (par exemple des images avec de la neige).</font>"
   ]
  },
  {
   "cell_type": "markdown",
   "metadata": {},
   "source": [
    "### Data augmentation (intégrée au modèle)"
   ]
  },
  {
   "cell_type": "markdown",
   "metadata": {},
   "source": [
    "Une ressource utile est celle de tensorflow sur la data augmentation, située à l'adresse suivante : https://www.tensorflow.org/tutorials/images/data_augmentation"
   ]
  },
  {
   "cell_type": "markdown",
   "metadata": {},
   "source": [
    "Grâce au tutorial (première méthode), créer une data augmentation contenant RandomFlip, RandomRotation et RandomZoom."
   ]
  },
  {
   "cell_type": "code",
   "execution_count": 48,
   "metadata": {},
   "outputs": [],
   "source": [
    "def create_model_with_data_augmentation() :\n",
    "    # Data augmentation\n",
    "    data_augmentation = Sequential([\n",
    "        RandomFlip(\"horizontal\", input_shape=(224, 224, 3)),\n",
    "        RandomRotation(0.1),\n",
    "        RandomZoom(0.1),\n",
    "        # Rescaling(1./127.5, offset=-1.0)\n",
    "      ])\n",
    "    \n",
    "    # Récupération modèle pré-entraîné\n",
    "    model_base = VGG16(include_top=False, weights=\"imagenet\", input_shape=(224, 224, 3))\n",
    "    for layer in model_base.layers:\n",
    "        layer.trainable = False\n",
    "\n",
    "    # Définition du nouveau modèle\n",
    "    model = Sequential([\n",
    "                data_augmentation,\n",
    "                Rescaling(1./127.5, offset=-1),\n",
    "                model_base,\n",
    "                GlobalAveragePooling2D(),\n",
    "                Dense(256, activation='relu'),\n",
    "                Dropout(0.5),\n",
    "                Dense(4, activation='softmax')\n",
    "                ])\n",
    "\n",
    "    # compilation du modèle \n",
    "    model.compile(loss=\"categorical_crossentropy\", optimizer='adam', metrics=[\"accuracy\"])\n",
    "\n",
    "    print(model.summary())\n",
    "    \n",
    "    return model\n",
    "    "
   ]
  },
  {
   "cell_type": "code",
   "execution_count": 52,
   "metadata": {
    "scrolled": true
   },
   "outputs": [
    {
     "name": "stdout",
     "output_type": "stream",
     "text": [
      "Model: \"sequential_3\"\n",
      "_________________________________________________________________\n",
      " Layer (type)                Output Shape              Param #   \n",
      "=================================================================\n",
      " sequential_2 (Sequential)   (None, 224, 224, 3)       0         \n",
      "                                                                 \n",
      " rescaling_1 (Rescaling)     (None, 224, 224, 3)       0         \n",
      "                                                                 \n",
      " vgg16 (Functional)          (None, 7, 7, 512)         14714688  \n",
      "                                                                 \n",
      " global_average_pooling2d_2  (None, 512)               0         \n",
      "  (GlobalAveragePooling2D)                                       \n",
      "                                                                 \n",
      " dense_4 (Dense)             (None, 256)               131328    \n",
      "                                                                 \n",
      " dropout_2 (Dropout)         (None, 256)               0         \n",
      "                                                                 \n",
      " dense_5 (Dense)             (None, 4)                 1028      \n",
      "                                                                 \n",
      "=================================================================\n",
      "Total params: 14847044 (56.64 MB)\n",
      "Trainable params: 132356 (517.02 KB)\n",
      "Non-trainable params: 14714688 (56.13 MB)\n",
      "_________________________________________________________________\n",
      "None\n"
     ]
    }
   ],
   "source": [
    "# Création du modèle\n",
    "with tf.device('/cpu:0'): \n",
    "    model4 = create_model_with_data_augmentation()\n",
    "\n",
    "# Création du callback\n",
    "model4_save_path = \"./model4_best_weights.h5\"\n",
    "checkpoint = ModelCheckpoint(model4_save_path, monitor='val_loss', verbose=1, save_best_only=True, mode='min')\n",
    "es = EarlyStopping(monitor='val_loss', mode='min', verbose=1, patience=5)\n",
    "callbacks_list = [checkpoint, es]\n"
   ]
  },
  {
   "cell_type": "code",
   "execution_count": 53,
   "metadata": {
    "scrolled": true
   },
   "outputs": [
    {
     "name": "stdout",
     "output_type": "stream",
     "text": [
      "Epoch 1/10\n",
      "12/12 [==============================] - ETA: 0s - loss: 1.3376 - accuracy: 0.3944 \n",
      "Epoch 1: val_loss improved from inf to 1.03055, saving model to .\\model4_best_weights.h5\n"
     ]
    },
    {
     "name": "stderr",
     "output_type": "stream",
     "text": [
      "c:\\Users\\bspeziale\\AppData\\Local\\pypoetry\\Cache\\virtualenvs\\test-yOZBwoax-py3.11\\Lib\\site-packages\\keras\\src\\engine\\training.py:3079: UserWarning: You are saving your model as an HDF5 file via `model.save()`. This file format is considered legacy. We recommend using instead the native Keras format, e.g. `model.save('my_model.keras')`.\n",
      "  saving_api.save_model(\n"
     ]
    },
    {
     "name": "stdout",
     "output_type": "stream",
     "text": [
      "12/12 [==============================] - 178s 15s/step - loss: 1.3376 - accuracy: 0.3944 - val_loss: 1.0306 - val_accuracy: 0.7389\n",
      "Epoch 2/10\n",
      "12/12 [==============================] - ETA: 0s - loss: 0.9756 - accuracy: 0.6014 \n",
      "Epoch 2: val_loss improved from 1.03055 to 0.81562, saving model to .\\model4_best_weights.h5\n",
      "12/12 [==============================] - 160s 14s/step - loss: 0.9756 - accuracy: 0.6014 - val_loss: 0.8156 - val_accuracy: 0.7556\n",
      "Epoch 3/10\n",
      "12/12 [==============================] - ETA: 0s - loss: 0.7476 - accuracy: 0.7569 \n",
      "Epoch 3: val_loss improved from 0.81562 to 0.68578, saving model to .\\model4_best_weights.h5\n",
      "12/12 [==============================] - 174s 15s/step - loss: 0.7476 - accuracy: 0.7569 - val_loss: 0.6858 - val_accuracy: 0.7722\n",
      "Epoch 4/10\n",
      "12/12 [==============================] - ETA: 0s - loss: 0.6377 - accuracy: 0.7903 \n",
      "Epoch 4: val_loss improved from 0.68578 to 0.58405, saving model to .\\model4_best_weights.h5\n",
      "12/12 [==============================] - 163s 14s/step - loss: 0.6377 - accuracy: 0.7903 - val_loss: 0.5841 - val_accuracy: 0.8500\n",
      "Epoch 5/10\n",
      "12/12 [==============================] - ETA: 0s - loss: 0.5306 - accuracy: 0.8347 \n",
      "Epoch 5: val_loss improved from 0.58405 to 0.53257, saving model to .\\model4_best_weights.h5\n",
      "12/12 [==============================] - 161s 14s/step - loss: 0.5306 - accuracy: 0.8347 - val_loss: 0.5326 - val_accuracy: 0.8222\n",
      "Epoch 6/10\n",
      "12/12 [==============================] - ETA: 0s - loss: 0.4750 - accuracy: 0.8569 \n",
      "Epoch 6: val_loss improved from 0.53257 to 0.45116, saving model to .\\model4_best_weights.h5\n",
      "12/12 [==============================] - 193s 16s/step - loss: 0.4750 - accuracy: 0.8569 - val_loss: 0.4512 - val_accuracy: 0.8667\n",
      "Epoch 7/10\n",
      "12/12 [==============================] - ETA: 0s - loss: 0.4203 - accuracy: 0.8653 \n",
      "Epoch 7: val_loss improved from 0.45116 to 0.41793, saving model to .\\model4_best_weights.h5\n",
      "12/12 [==============================] - 177s 15s/step - loss: 0.4203 - accuracy: 0.8653 - val_loss: 0.4179 - val_accuracy: 0.8833\n",
      "Epoch 8/10\n",
      "12/12 [==============================] - ETA: 0s - loss: 0.4102 - accuracy: 0.8597 \n",
      "Epoch 8: val_loss improved from 0.41793 to 0.40342, saving model to .\\model4_best_weights.h5\n",
      "12/12 [==============================] - 168s 14s/step - loss: 0.4102 - accuracy: 0.8597 - val_loss: 0.4034 - val_accuracy: 0.8778\n",
      "Epoch 9/10\n",
      "12/12 [==============================] - ETA: 0s - loss: 0.3599 - accuracy: 0.8847 \n",
      "Epoch 9: val_loss improved from 0.40342 to 0.34527, saving model to .\\model4_best_weights.h5\n",
      "12/12 [==============================] - 160s 13s/step - loss: 0.3599 - accuracy: 0.8847 - val_loss: 0.3453 - val_accuracy: 0.9056\n",
      "Epoch 10/10\n",
      "12/12 [==============================] - ETA: 0s - loss: 0.3167 - accuracy: 0.9167 \n",
      "Epoch 10: val_loss improved from 0.34527 to 0.34133, saving model to .\\model4_best_weights.h5\n",
      "12/12 [==============================] - 155s 13s/step - loss: 0.3167 - accuracy: 0.9167 - val_loss: 0.3413 - val_accuracy: 0.9000\n"
     ]
    }
   ],
   "source": [
    "with tf.device('/cpu:0'): \n",
    "    history4 = model4.fit(\n",
    "        X_train,\n",
    "        y_train,\n",
    "        epochs=10,\n",
    "        batch_size=64,\n",
    "        callbacks=callbacks_list,\n",
    "        validation_data=(X_val, y_val),\n",
    "        verbose=1,\n",
    "    )"
   ]
  },
  {
   "cell_type": "markdown",
   "metadata": {},
   "source": [
    "<font color=\"orange\">Reprendre l'ensemble des questions précédentes et comparer les deux modèles.</font>"
   ]
  },
  {
   "cell_type": "markdown",
   "metadata": {},
   "source": []
  }
 ],
 "metadata": {
  "hide_input": false,
  "kernelspec": {
   "display_name": "Python 3 (ipykernel)",
   "language": "python",
   "name": "python3"
  },
  "language_info": {
   "codemirror_mode": {
    "name": "ipython",
    "version": 3
   },
   "file_extension": ".py",
   "mimetype": "text/x-python",
   "name": "python",
   "nbconvert_exporter": "python",
   "pygments_lexer": "ipython3",
   "version": "3.11.4"
  },
  "toc": {
   "base_numbering": 1,
   "nav_menu": {},
   "number_sections": true,
   "sideBar": true,
   "skip_h1_title": false,
   "title_cell": "Table of Contents",
   "title_sidebar": "Contents",
   "toc_cell": false,
   "toc_position": {
    "height": "calc(100% - 180px)",
    "left": "10px",
    "top": "150px",
    "width": "256px"
   },
   "toc_section_display": true,
   "toc_window_display": true
  },
  "varInspector": {
   "cols": {
    "lenName": 16,
    "lenType": 16,
    "lenVar": 40
   },
   "kernels_config": {
    "python": {
     "delete_cmd_postfix": "",
     "delete_cmd_prefix": "del ",
     "library": "var_list.py",
     "varRefreshCmd": "print(var_dic_list())"
    },
    "r": {
     "delete_cmd_postfix": ") ",
     "delete_cmd_prefix": "rm(",
     "library": "var_list.r",
     "varRefreshCmd": "cat(var_dic_list()) "
    }
   },
   "types_to_exclude": [
    "module",
    "function",
    "builtin_function_or_method",
    "instance",
    "_Feature"
   ],
   "window_display": false
  }
 },
 "nbformat": 4,
 "nbformat_minor": 4
}
